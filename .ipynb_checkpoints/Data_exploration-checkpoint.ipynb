{
 "cells": [
  {
   "cell_type": "code",
   "execution_count": 39,
   "id": "fce66e6a-fae0-4233-841e-bde8eb3ea19f",
   "metadata": {},
   "outputs": [],
   "source": [
    "#Libraries\n",
    "import pandas as pd\n",
    "import numpy as np\n",
    "import matplotlib.pyplot as plt\n",
    "import seaborn as sns"
   ]
  },
  {
   "cell_type": "code",
   "execution_count": 40,
   "id": "54740d0d-e0a6-4933-a5fe-71c530d8ed05",
   "metadata": {},
   "outputs": [],
   "source": [
    "def get_stats(df):\n",
    "    subtests = np.sort(df['specific_subtest_id'].unique())\n",
    "    for subtest in subtests:\n",
    "        subtest_df = df.query('specific_subtest_id == @subtest')\n",
    "        N = len(subtest_df)\n",
    "        r_min = subtest_df['raw_score'].min()\n",
    "        r_max = subtest_df['raw_score'].max()\n",
    "        print(f'Subtest ID {subtest}: N scores = {N}, Score range: {r_min} - {r_max}')\n",
    "    print('')"
   ]
  },
  {
   "cell_type": "code",
   "execution_count": 41,
   "id": "3ab021c6-ad2d-4947-af6a-8031d98cbbf9",
   "metadata": {},
   "outputs": [
    {
     "name": "stdout",
     "output_type": "stream",
     "text": [
      "Subtest ID 29: N scores = 318300, Score range: 1.0 - 42.0\n",
      "Subtest ID 30: N scores = 273241, Score range: 1.0 - 44.0\n",
      "Subtest ID 31: N scores = 271393, Score range: 1.0 - 17.0\n",
      "Subtest ID 39: N scores = 276557, Score range: 4.0 - 298.0\n",
      "Subtest ID 40: N scores = 274834, Score range: 6.0 - 300.0\n",
      "Subtest ID 43: N scores = 297004, Score range: 1.0 - 24.0\n",
      "Subtest ID 44: N scores = 280444, Score range: 1.0 - 23.0\n",
      "Subtest ID 45: N scores = 311175, Score range: 1.0 - 132.0\n",
      "\n"
     ]
    }
   ],
   "source": [
    "#See who has highest grand index scores\n",
    "\n",
    "#Load data\n",
    "df = pd.read_csv(\"/Users/daliagala/Documents/Data/battery50_df.csv\")\n",
    "\n",
    "#Get df stats about subtests\n",
    "get_stats(df)"
   ]
  },
  {
   "cell_type": "code",
   "execution_count": 45,
   "id": "177d6b52-924c-4e58-a3a9-392401ad8b0b",
   "metadata": {},
   "outputs": [
    {
     "name": "stdout",
     "output_type": "stream",
     "text": [
      "The number of users selected by the cutoff of {GI_cutoff_value} is: 196\n",
      "The % of users compared to all is: 0.06157712849513038 %\n"
     ]
    },
    {
     "data": {
      "text/html": [
       "<div>\n",
       "<style scoped>\n",
       "    .dataframe tbody tr th:only-of-type {\n",
       "        vertical-align: middle;\n",
       "    }\n",
       "\n",
       "    .dataframe tbody tr th {\n",
       "        vertical-align: top;\n",
       "    }\n",
       "\n",
       "    .dataframe thead th {\n",
       "        text-align: right;\n",
       "    }\n",
       "</style>\n",
       "<table border=\"1\" class=\"dataframe\">\n",
       "  <thead>\n",
       "    <tr style=\"text-align: right;\">\n",
       "      <th></th>\n",
       "      <th>user_id</th>\n",
       "      <th>age</th>\n",
       "      <th>gender</th>\n",
       "      <th>education_level</th>\n",
       "      <th>country</th>\n",
       "      <th>test_run_id</th>\n",
       "      <th>battery_id</th>\n",
       "      <th>specific_subtest_id</th>\n",
       "      <th>raw_score</th>\n",
       "      <th>time_of_day</th>\n",
       "      <th>grand_index</th>\n",
       "    </tr>\n",
       "  </thead>\n",
       "  <tbody>\n",
       "    <tr>\n",
       "      <th>10586</th>\n",
       "      <td>490472</td>\n",
       "      <td>28.0</td>\n",
       "      <td>f</td>\n",
       "      <td>4.0</td>\n",
       "      <td>US</td>\n",
       "      <td>446488</td>\n",
       "      <td>50</td>\n",
       "      <td>29</td>\n",
       "      <td>31.0</td>\n",
       "      <td>15</td>\n",
       "      <td>157.755448</td>\n",
       "    </tr>\n",
       "    <tr>\n",
       "      <th>10587</th>\n",
       "      <td>490472</td>\n",
       "      <td>28.0</td>\n",
       "      <td>f</td>\n",
       "      <td>4.0</td>\n",
       "      <td>US</td>\n",
       "      <td>446488</td>\n",
       "      <td>50</td>\n",
       "      <td>45</td>\n",
       "      <td>81.0</td>\n",
       "      <td>15</td>\n",
       "      <td>157.755448</td>\n",
       "    </tr>\n",
       "    <tr>\n",
       "      <th>10588</th>\n",
       "      <td>490472</td>\n",
       "      <td>28.0</td>\n",
       "      <td>f</td>\n",
       "      <td>4.0</td>\n",
       "      <td>US</td>\n",
       "      <td>446488</td>\n",
       "      <td>50</td>\n",
       "      <td>43</td>\n",
       "      <td>15.0</td>\n",
       "      <td>15</td>\n",
       "      <td>157.755448</td>\n",
       "    </tr>\n",
       "    <tr>\n",
       "      <th>10589</th>\n",
       "      <td>490472</td>\n",
       "      <td>28.0</td>\n",
       "      <td>f</td>\n",
       "      <td>4.0</td>\n",
       "      <td>US</td>\n",
       "      <td>446488</td>\n",
       "      <td>50</td>\n",
       "      <td>44</td>\n",
       "      <td>12.0</td>\n",
       "      <td>15</td>\n",
       "      <td>157.755448</td>\n",
       "    </tr>\n",
       "    <tr>\n",
       "      <th>10590</th>\n",
       "      <td>490472</td>\n",
       "      <td>28.0</td>\n",
       "      <td>f</td>\n",
       "      <td>4.0</td>\n",
       "      <td>US</td>\n",
       "      <td>446488</td>\n",
       "      <td>50</td>\n",
       "      <td>39</td>\n",
       "      <td>12.0</td>\n",
       "      <td>15</td>\n",
       "      <td>157.755448</td>\n",
       "    </tr>\n",
       "  </tbody>\n",
       "</table>\n",
       "</div>"
      ],
      "text/plain": [
       "       user_id   age gender  education_level country  test_run_id  battery_id  \\\n",
       "10586   490472  28.0      f              4.0      US       446488          50   \n",
       "10587   490472  28.0      f              4.0      US       446488          50   \n",
       "10588   490472  28.0      f              4.0      US       446488          50   \n",
       "10589   490472  28.0      f              4.0      US       446488          50   \n",
       "10590   490472  28.0      f              4.0      US       446488          50   \n",
       "\n",
       "       specific_subtest_id  raw_score  time_of_day  grand_index  \n",
       "10586                   29       31.0           15   157.755448  \n",
       "10587                   45       81.0           15   157.755448  \n",
       "10588                   43       15.0           15   157.755448  \n",
       "10589                   44       12.0           15   157.755448  \n",
       "10590                   39       12.0           15   157.755448  "
      ]
     },
     "execution_count": 45,
     "metadata": {},
     "output_type": "execute_result"
    }
   ],
   "source": [
    "#Select scores with Grand Index above some value\n",
    "GI_cutoff_value = 150\n",
    "highest_scores = df.loc[(df['grand_index'] >= GI_cutoff_value)]\n",
    "#How many users did we select?\n",
    "print(\"The number of users selected by the cutoff of {GI_cutoff_value} is:\", len(highest_scores[\"user_id\"].unique()))\n",
    "#What is the percentage of users compared to all data?\n",
    "print(\"The % of users compared to all is:\", (len(highest_scores[\"user_id\"].unique()))/len(df[\"user_id\"].unique())*100, \"%\")\n",
    "#See high score dataframe head\n",
    "highest_scores.head()\n",
    "\n",
    "#Get highest score df stats about subtests\n",
    "#get_stats(highest_scores)"
   ]
  },
  {
   "cell_type": "code",
   "execution_count": 72,
   "id": "7f69b501-04b7-42b2-86ff-beb38fc81ef5",
   "metadata": {},
   "outputs": [
    {
     "data": {
      "image/png": "[encoded data removed]",
      "text/plain": [
       "<Figure size 640x480 with 1 Axes>"
      ]
     },
     "metadata": {},
     "output_type": "display_data"
    }
   ],
   "source": [
    "sub = 43\n",
    "subtest_original = df[df[\"specific_subtest_id\"] == sub]\n",
    "subtest_original = subtest_original.assign(Dataset='Original')\n",
    "\n",
    "subtest_highest = highest_scores[highest_scores[\"specific_subtest_id\"] == sub]\n",
    "subtest_highest = subtest_highest.assign(Dataset='Highest')\n",
    "\n",
    "bins = np.linspace(0, 50, 50)\n",
    "\n",
    "plt.hist(subtest_original[\"raw_score\"], bins, alpha=0.5, label='Original')\n",
    "plt.hist(subtest_highest[\"raw_score\"], bins, alpha=1, label='Highest')\n",
    "plt.legend(loc='upper right')\n",
    "plt.ylim((0,100))\n",
    "plt.show()\n"
   ]
  }
 ],
 "metadata": {
  "kernelspec": {
   "display_name": "env",
   "language": "python",
   "name": "env"
  },
  "language_info": {
   "codemirror_mode": {
    "name": "ipython",
    "version": 3
   },
   "file_extension": ".py",
   "mimetype": "text/x-python",
   "name": "python",
   "nbconvert_exporter": "python",
   "pygments_lexer": "ipython3",
   "version": "3.9.7"
  }
 },
 "nbformat": 4,
 "nbformat_minor": 5
}
