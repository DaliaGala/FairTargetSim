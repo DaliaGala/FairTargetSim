{
 "cells": [
  {
   "cell_type": "code",
   "execution_count": 1,
   "metadata": {
    "executionInfo": {
     "elapsed": 1570,
     "status": "ok",
     "timestamp": 1683028536490,
     "user": {
      "displayName": "Dalia Gala",
      "userId": "11225941891099264734"
     },
     "user_tz": -60
    },
    "id": "9UTkNqlPUdUx"
   },
   "outputs": [],
   "source": [
    "# Import libraries\n",
    "import numpy as np\n",
    "import pandas as pd\n",
    "import seaborn as sns\n",
    "from google.colab import drive\n",
    "from sklearn import preprocessing\n",
    "from sklearn import datasets\n",
    "from sklearn.decomposition import PCA\n",
    "from sklearn.preprocessing import StandardScaler\n",
    "from sklearn.model_selection import train_test_split\n",
    "from random import shuffle\n",
    "from sklearn import svm\n",
    "from sklearn import metrics\n",
    "import matplotlib.pyplot as plt\n",
    "from sklearn.metrics import confusion_matrix\n",
    "import sys\n",
    "import veritastool\n",
    "import veritas"
   ]
  },
  {
   "cell_type": "code",
   "execution_count": null,
   "metadata": {
    "colab": {
     "base_uri": "https://localhost:8080/",
     "height": 612
    },
    "executionInfo": {
     "elapsed": 668,
     "status": "error",
     "timestamp": 1683028829968,
     "user": {
      "displayName": "Dalia Gala",
      "userId": "11225941891099264734"
     },
     "user_tz": -60
    },
    "id": "k2GR2aC4RIG6",
    "outputId": "cb68a5d1-4b7c-429e-c4a2-a0a11e0c4503"
   },
   "outputs": [],
   "source": [
    "from veritastool.model.modelwrapper import ModelWrapper\n",
    "from veritastool.model.model_container import ModelContainer\n",
    "from veritastool.usecases.predictive_underwriting import PredictiveUnderwriting"
   ]
  },
  {
   "cell_type": "code",
   "execution_count": 33,
   "metadata": {
    "colab": {
     "base_uri": "https://localhost:8080/"
    },
    "executionInfo": {
     "elapsed": 4126,
     "status": "ok",
     "timestamp": 1683027319949,
     "user": {
      "displayName": "Dalia Gala",
      "userId": "11225941891099264734"
     },
     "user_tz": -60
    },
    "id": "DdVEqMnYUgbe",
    "outputId": "acddc24e-c16f-4996-ea47-10be1a2f87ea"
   },
   "outputs": [
    {
     "name": "stdout",
     "output_type": "stream",
     "text": [
      "Mounted at /content/gdrive\n"
     ]
    }
   ],
   "source": [
    "# Mount drive\n",
    "drive.mount('/content/gdrive', force_remount=True)"
   ]
  },
  {
   "cell_type": "code",
   "execution_count": 34,
   "metadata": {
    "colab": {
     "base_uri": "https://localhost:8080/",
     "height": 289
    },
    "executionInfo": {
     "elapsed": 27,
     "status": "ok",
     "timestamp": 1683027319950,
     "user": {
      "displayName": "Dalia Gala",
      "userId": "11225941891099264734"
     },
     "user_tz": -60
    },
    "id": "1SIzSFmlJ-EG",
    "outputId": "096b2e82-c594-4674-e385-500acc211c49"
   },
   "outputs": [
    {
     "name": "stdout",
     "output_type": "stream",
     "text": [
      "1111\n"
     ]
    },
    {
     "data": {
      "text/html": [
       "\n",
       "  <div id=\"df-f8203127-0463-4bdf-83cf-4cb7de7a58a5\">\n",
       "    <div class=\"colab-df-container\">\n",
       "      <div>\n",
       "<style scoped>\n",
       "    .dataframe tbody tr th:only-of-type {\n",
       "        vertical-align: middle;\n",
       "    }\n",
       "\n",
       "    .dataframe tbody tr th {\n",
       "        vertical-align: top;\n",
       "    }\n",
       "\n",
       "    .dataframe thead th {\n",
       "        text-align: right;\n",
       "    }\n",
       "</style>\n",
       "<table border=\"1\" class=\"dataframe\">\n",
       "  <thead>\n",
       "    <tr style=\"text-align: right;\">\n",
       "      <th></th>\n",
       "      <th>subtest_27</th>\n",
       "      <th>subtest_28</th>\n",
       "      <th>subtest_29</th>\n",
       "      <th>subtest_30</th>\n",
       "      <th>subtest_32</th>\n",
       "      <th>subtest_33</th>\n",
       "      <th>subtest_36</th>\n",
       "      <th>subtest_37</th>\n",
       "      <th>subtest_38</th>\n",
       "      <th>subtest_39</th>\n",
       "      <th>subtest_40</th>\n",
       "      <th>Model_C_label</th>\n",
       "      <th>Model_A_label</th>\n",
       "      <th>Model_B_label</th>\n",
       "    </tr>\n",
       "  </thead>\n",
       "  <tbody>\n",
       "    <tr>\n",
       "      <th>0</th>\n",
       "      <td>1.000000</td>\n",
       "      <td>0.833333</td>\n",
       "      <td>0.733333</td>\n",
       "      <td>0.714286</td>\n",
       "      <td>0.798507</td>\n",
       "      <td>0.571429</td>\n",
       "      <td>1.000000</td>\n",
       "      <td>1.000000</td>\n",
       "      <td>0.985294</td>\n",
       "      <td>0.970930</td>\n",
       "      <td>0.978947</td>\n",
       "      <td>1</td>\n",
       "      <td>1</td>\n",
       "      <td>1</td>\n",
       "    </tr>\n",
       "    <tr>\n",
       "      <th>1</th>\n",
       "      <td>0.777778</td>\n",
       "      <td>0.833333</td>\n",
       "      <td>0.700000</td>\n",
       "      <td>0.428571</td>\n",
       "      <td>0.798507</td>\n",
       "      <td>1.000000</td>\n",
       "      <td>1.000000</td>\n",
       "      <td>1.000000</td>\n",
       "      <td>0.970588</td>\n",
       "      <td>0.976744</td>\n",
       "      <td>0.968421</td>\n",
       "      <td>1</td>\n",
       "      <td>1</td>\n",
       "      <td>0</td>\n",
       "    </tr>\n",
       "    <tr>\n",
       "      <th>2</th>\n",
       "      <td>0.777778</td>\n",
       "      <td>1.000000</td>\n",
       "      <td>0.700000</td>\n",
       "      <td>1.000000</td>\n",
       "      <td>0.729478</td>\n",
       "      <td>0.857143</td>\n",
       "      <td>0.727273</td>\n",
       "      <td>1.000000</td>\n",
       "      <td>1.000000</td>\n",
       "      <td>1.000000</td>\n",
       "      <td>0.963158</td>\n",
       "      <td>0</td>\n",
       "      <td>1</td>\n",
       "      <td>1</td>\n",
       "    </tr>\n",
       "    <tr>\n",
       "      <th>3</th>\n",
       "      <td>0.888889</td>\n",
       "      <td>0.833333</td>\n",
       "      <td>0.900000</td>\n",
       "      <td>0.571429</td>\n",
       "      <td>0.805970</td>\n",
       "      <td>0.571429</td>\n",
       "      <td>1.000000</td>\n",
       "      <td>0.909091</td>\n",
       "      <td>0.955882</td>\n",
       "      <td>0.976744</td>\n",
       "      <td>0.942105</td>\n",
       "      <td>1</td>\n",
       "      <td>1</td>\n",
       "      <td>1</td>\n",
       "    </tr>\n",
       "    <tr>\n",
       "      <th>4</th>\n",
       "      <td>1.000000</td>\n",
       "      <td>0.666667</td>\n",
       "      <td>0.966667</td>\n",
       "      <td>0.714286</td>\n",
       "      <td>0.751866</td>\n",
       "      <td>0.428571</td>\n",
       "      <td>1.000000</td>\n",
       "      <td>0.909091</td>\n",
       "      <td>0.985294</td>\n",
       "      <td>0.970930</td>\n",
       "      <td>0.963158</td>\n",
       "      <td>1</td>\n",
       "      <td>1</td>\n",
       "      <td>1</td>\n",
       "    </tr>\n",
       "  </tbody>\n",
       "</table>\n",
       "</div>\n",
       "      <button class=\"colab-df-convert\" onclick=\"convertToInteractive('df-f8203127-0463-4bdf-83cf-4cb7de7a58a5')\"\n",
       "              title=\"Convert this dataframe to an interactive table.\"\n",
       "              style=\"display:none;\">\n",
       "        \n",
       "  <svg xmlns=\"http://www.w3.org/2000/svg\" height=\"24px\"viewBox=\"0 0 24 24\"\n",
       "       width=\"24px\">\n",
       "    <path d=\"M0 0h24v24H0V0z\" fill=\"none\"/>\n",
       "    <path d=\"M18.56 5.44l.94 2.06.94-2.06 2.06-.94-2.06-.94-.94-2.06-.94 2.06-2.06.94zm-11 1L8.5 8.5l.94-2.06 2.06-.94-2.06-.94L8.5 2.5l-.94 2.06-2.06.94zm10 10l.94 2.06.94-2.06 2.06-.94-2.06-.94-.94-2.06-.94 2.06-2.06.94z\"/><path d=\"M17.41 7.96l-1.37-1.37c-.4-.4-.92-.59-1.43-.59-.52 0-1.04.2-1.43.59L10.3 9.45l-7.72 7.72c-.78.78-.78 2.05 0 2.83L4 21.41c.39.39.9.59 1.41.59.51 0 1.02-.2 1.41-.59l7.78-7.78 2.81-2.81c.8-.78.8-2.07 0-2.86zM5.41 20L4 18.59l7.72-7.72 1.47 1.35L5.41 20z\"/>\n",
       "  </svg>\n",
       "      </button>\n",
       "      \n",
       "  <style>\n",
       "    .colab-df-container {\n",
       "      display:flex;\n",
       "      flex-wrap:wrap;\n",
       "      gap: 12px;\n",
       "    }\n",
       "\n",
       "    .colab-df-convert {\n",
       "      background-color: #E8F0FE;\n",
       "      border: none;\n",
       "      border-radius: 50%;\n",
       "      cursor: pointer;\n",
       "      display: none;\n",
       "      fill: #1967D2;\n",
       "      height: 32px;\n",
       "      padding: 0 0 0 0;\n",
       "      width: 32px;\n",
       "    }\n",
       "\n",
       "    .colab-df-convert:hover {\n",
       "      background-color: #E2EBFA;\n",
       "      box-shadow: 0px 1px 2px rgba(60, 64, 67, 0.3), 0px 1px 3px 1px rgba(60, 64, 67, 0.15);\n",
       "      fill: #174EA6;\n",
       "    }\n",
       "\n",
       "    [theme=dark] .colab-df-convert {\n",
       "      background-color: #3B4455;\n",
       "      fill: #D2E3FC;\n",
       "    }\n",
       "\n",
       "    [theme=dark] .colab-df-convert:hover {\n",
       "      background-color: #434B5C;\n",
       "      box-shadow: 0px 1px 3px 1px rgba(0, 0, 0, 0.15);\n",
       "      filter: drop-shadow(0px 1px 2px rgba(0, 0, 0, 0.3));\n",
       "      fill: #FFFFFF;\n",
       "    }\n",
       "  </style>\n",
       "\n",
       "      <script>\n",
       "        const buttonEl =\n",
       "          document.querySelector('#df-f8203127-0463-4bdf-83cf-4cb7de7a58a5 button.colab-df-convert');\n",
       "        buttonEl.style.display =\n",
       "          google.colab.kernel.accessAllowed ? 'block' : 'none';\n",
       "\n",
       "        async function convertToInteractive(key) {\n",
       "          const element = document.querySelector('#df-f8203127-0463-4bdf-83cf-4cb7de7a58a5');\n",
       "          const dataTable =\n",
       "            await google.colab.kernel.invokeFunction('convertToInteractive',\n",
       "                                                     [key], {});\n",
       "          if (!dataTable) return;\n",
       "\n",
       "          const docLinkHtml = 'Like what you see? Visit the ' +\n",
       "            '<a target=\"_blank\" href=https://colab.research.google.com/notebooks/data_table.ipynb>data table notebook</a>'\n",
       "            + ' to learn more about interactive tables.';\n",
       "          element.innerHTML = '';\n",
       "          dataTable['output_type'] = 'display_data';\n",
       "          await google.colab.output.renderOutput(dataTable, element);\n",
       "          const docLink = document.createElement('div');\n",
       "          docLink.innerHTML = docLinkHtml;\n",
       "          element.appendChild(docLink);\n",
       "        }\n",
       "      </script>\n",
       "    </div>\n",
       "  </div>\n",
       "  "
      ],
      "text/plain": [
       "   subtest_27  subtest_28  subtest_29  subtest_30  subtest_32  subtest_33  \\\n",
       "0    1.000000    0.833333    0.733333    0.714286    0.798507    0.571429   \n",
       "1    0.777778    0.833333    0.700000    0.428571    0.798507    1.000000   \n",
       "2    0.777778    1.000000    0.700000    1.000000    0.729478    0.857143   \n",
       "3    0.888889    0.833333    0.900000    0.571429    0.805970    0.571429   \n",
       "4    1.000000    0.666667    0.966667    0.714286    0.751866    0.428571   \n",
       "\n",
       "   subtest_36  subtest_37  subtest_38  subtest_39  subtest_40  Model_C_label  \\\n",
       "0    1.000000    1.000000    0.985294    0.970930    0.978947              1   \n",
       "1    1.000000    1.000000    0.970588    0.976744    0.968421              1   \n",
       "2    0.727273    1.000000    1.000000    1.000000    0.963158              0   \n",
       "3    1.000000    0.909091    0.955882    0.976744    0.942105              1   \n",
       "4    1.000000    0.909091    0.985294    0.970930    0.963158              1   \n",
       "\n",
       "   Model_A_label  Model_B_label  \n",
       "0              1              1  \n",
       "1              1              0  \n",
       "2              1              1  \n",
       "3              1              1  \n",
       "4              1              1  "
      ]
     },
     "execution_count": 34,
     "metadata": {},
     "output_type": "execute_result"
    }
   ],
   "source": [
    "df = pd.read_csv('gdrive/My Drive/Accenture x Turing/Data/Experiment_2/Rerun_6_pc/Clean_data_25_6_percent_bat_26_no_bot_85_linspace.csv')\n",
    "df.drop(columns=df.columns[0], axis=1, inplace=True)\n",
    "print(len(df))\n",
    "df.head()"
   ]
  },
  {
   "cell_type": "code",
   "execution_count": 35,
   "metadata": {
    "executionInfo": {
     "elapsed": 23,
     "status": "ok",
     "timestamp": 1683027319951,
     "user": {
      "displayName": "Dalia Gala",
      "userId": "11225941891099264734"
     },
     "user_tz": -60
    },
    "id": "pwwaAhiIKEhn"
   },
   "outputs": [],
   "source": [
    "# Split labels and features\n",
    "\n",
    "X_data, Y_data_C, Y_data_A, Y_data_B = df.iloc[:, :-3], df.iloc[:, [-3]], df.iloc[:, [-2]], df.iloc[:, [-1]]\n",
    "\n",
    "# X_data, Y_data = df.iloc[:, :-1], df.iloc[:, [-1]]"
   ]
  },
  {
   "cell_type": "code",
   "execution_count": 36,
   "metadata": {
    "executionInfo": {
     "elapsed": 22,
     "status": "ok",
     "timestamp": 1683027319951,
     "user": {
      "displayName": "Dalia Gala",
      "userId": "11225941891099264734"
     },
     "user_tz": -60
    },
    "id": "e1ruM6oaReWB"
   },
   "outputs": [],
   "source": [
    "Y_data_B = Y_data_B.reset_index()\n",
    "Y_data_C = Y_data_C.reset_index()"
   ]
  },
  {
   "cell_type": "code",
   "execution_count": 37,
   "metadata": {
    "executionInfo": {
     "elapsed": 22,
     "status": "ok",
     "timestamp": 1683027319952,
     "user": {
      "displayName": "Dalia Gala",
      "userId": "11225941891099264734"
     },
     "user_tz": -60
    },
    "id": "nzTTd2O0SPnF"
   },
   "outputs": [],
   "source": [
    "# Split the dataset\n",
    "\n",
    "X_train, X_test, y_train_A, y_test_A = train_test_split(X_data, Y_data_A, test_size=0.2)\n",
    "y_train_A = y_train_A.reset_index()\n",
    "y_test_A = y_test_A.reset_index()"
   ]
  },
  {
   "cell_type": "code",
   "execution_count": 38,
   "metadata": {
    "executionInfo": {
     "elapsed": 22,
     "status": "ok",
     "timestamp": 1683027319953,
     "user": {
      "displayName": "Dalia Gala",
      "userId": "11225941891099264734"
     },
     "user_tz": -60
    },
    "id": "5rDE8rRKKXmS"
   },
   "outputs": [],
   "source": [
    "y_train_B = pd.merge(y_train_A,Y_data_B[['index', 'Model_B_label']],on='index', how='left')\n",
    "\n",
    "y_train_C = pd.merge(y_train_A,Y_data_C[['index', 'Model_C_label']],on='index', how='left')\n",
    "\n",
    "y_test_B = pd.merge(y_test_A,Y_data_B[['index', 'Model_B_label']],on='index', how='left')\n",
    "\n",
    "y_test_C = pd.merge(y_test_A,Y_data_C[['index', 'Model_C_label']],on='index', how='left')\n",
    "\n",
    "# X_train, X_test, y_train, y_test = train_test_split(X_data, Y_data, test_size=0.2)\n",
    "# print(len(X_train))\n",
    "# print(len(X_test))\n",
    "# print(len(y_train))\n",
    "# print(len(y_test))"
   ]
  },
  {
   "cell_type": "code",
   "execution_count": 39,
   "metadata": {
    "executionInfo": {
     "elapsed": 22,
     "status": "ok",
     "timestamp": 1683027319954,
     "user": {
      "displayName": "Dalia Gala",
      "userId": "11225941891099264734"
     },
     "user_tz": -60
    },
    "id": "_imzKvB6-_DG"
   },
   "outputs": [],
   "source": [
    "y_train_B = y_train_B.drop(labels='Model_A_label', axis = 1)\n",
    "y_train_C = y_train_C.drop(labels='Model_A_label', axis = 1)\n",
    "y_test_B = y_test_B.drop(labels='Model_A_label', axis = 1)\n",
    "y_test_C = y_test_C.drop(labels='Model_A_label', axis = 1)"
   ]
  },
  {
   "cell_type": "code",
   "execution_count": 40,
   "metadata": {
    "executionInfo": {
     "elapsed": 21,
     "status": "ok",
     "timestamp": 1683027319954,
     "user": {
      "displayName": "Dalia Gala",
      "userId": "11225941891099264734"
     },
     "user_tz": -60
    },
    "id": "ithDMDen_mEj"
   },
   "outputs": [],
   "source": [
    "y_train_A = y_train_A.set_index(\"index\")\n",
    "y_train_B = y_train_B.set_index(\"index\")\n",
    "y_train_C = y_train_C.set_index(\"index\")\n",
    "y_test_A = y_test_A.set_index(\"index\")\n",
    "y_test_B = y_test_B.set_index(\"index\")\n",
    "y_test_C = y_test_C.set_index(\"index\")"
   ]
  },
  {
   "cell_type": "code",
   "execution_count": 41,
   "metadata": {
    "colab": {
     "base_uri": "https://localhost:8080/",
     "height": 238
    },
    "executionInfo": {
     "elapsed": 21,
     "status": "ok",
     "timestamp": 1683027319955,
     "user": {
      "displayName": "Dalia Gala",
      "userId": "11225941891099264734"
     },
     "user_tz": -60
    },
    "id": "l6JwN8Cr_Mu3",
    "outputId": "60c01948-20eb-4cbb-8ac3-6bfdac2f5a5a"
   },
   "outputs": [
    {
     "data": {
      "text/html": [
       "\n",
       "  <div id=\"df-bc6a613e-827a-4966-acfa-c345d28c0002\">\n",
       "    <div class=\"colab-df-container\">\n",
       "      <div>\n",
       "<style scoped>\n",
       "    .dataframe tbody tr th:only-of-type {\n",
       "        vertical-align: middle;\n",
       "    }\n",
       "\n",
       "    .dataframe tbody tr th {\n",
       "        vertical-align: top;\n",
       "    }\n",
       "\n",
       "    .dataframe thead th {\n",
       "        text-align: right;\n",
       "    }\n",
       "</style>\n",
       "<table border=\"1\" class=\"dataframe\">\n",
       "  <thead>\n",
       "    <tr style=\"text-align: right;\">\n",
       "      <th></th>\n",
       "      <th>Model_C_label</th>\n",
       "    </tr>\n",
       "    <tr>\n",
       "      <th>index</th>\n",
       "      <th></th>\n",
       "    </tr>\n",
       "  </thead>\n",
       "  <tbody>\n",
       "    <tr>\n",
       "      <th>239</th>\n",
       "      <td>0</td>\n",
       "    </tr>\n",
       "    <tr>\n",
       "      <th>118</th>\n",
       "      <td>0</td>\n",
       "    </tr>\n",
       "    <tr>\n",
       "      <th>738</th>\n",
       "      <td>0</td>\n",
       "    </tr>\n",
       "    <tr>\n",
       "      <th>394</th>\n",
       "      <td>0</td>\n",
       "    </tr>\n",
       "    <tr>\n",
       "      <th>978</th>\n",
       "      <td>0</td>\n",
       "    </tr>\n",
       "  </tbody>\n",
       "</table>\n",
       "</div>\n",
       "      <button class=\"colab-df-convert\" onclick=\"convertToInteractive('df-bc6a613e-827a-4966-acfa-c345d28c0002')\"\n",
       "              title=\"Convert this dataframe to an interactive table.\"\n",
       "              style=\"display:none;\">\n",
       "        \n",
       "  <svg xmlns=\"http://www.w3.org/2000/svg\" height=\"24px\"viewBox=\"0 0 24 24\"\n",
       "       width=\"24px\">\n",
       "    <path d=\"M0 0h24v24H0V0z\" fill=\"none\"/>\n",
       "    <path d=\"M18.56 5.44l.94 2.06.94-2.06 2.06-.94-2.06-.94-.94-2.06-.94 2.06-2.06.94zm-11 1L8.5 8.5l.94-2.06 2.06-.94-2.06-.94L8.5 2.5l-.94 2.06-2.06.94zm10 10l.94 2.06.94-2.06 2.06-.94-2.06-.94-.94-2.06-.94 2.06-2.06.94z\"/><path d=\"M17.41 7.96l-1.37-1.37c-.4-.4-.92-.59-1.43-.59-.52 0-1.04.2-1.43.59L10.3 9.45l-7.72 7.72c-.78.78-.78 2.05 0 2.83L4 21.41c.39.39.9.59 1.41.59.51 0 1.02-.2 1.41-.59l7.78-7.78 2.81-2.81c.8-.78.8-2.07 0-2.86zM5.41 20L4 18.59l7.72-7.72 1.47 1.35L5.41 20z\"/>\n",
       "  </svg>\n",
       "      </button>\n",
       "      \n",
       "  <style>\n",
       "    .colab-df-container {\n",
       "      display:flex;\n",
       "      flex-wrap:wrap;\n",
       "      gap: 12px;\n",
       "    }\n",
       "\n",
       "    .colab-df-convert {\n",
       "      background-color: #E8F0FE;\n",
       "      border: none;\n",
       "      border-radius: 50%;\n",
       "      cursor: pointer;\n",
       "      display: none;\n",
       "      fill: #1967D2;\n",
       "      height: 32px;\n",
       "      padding: 0 0 0 0;\n",
       "      width: 32px;\n",
       "    }\n",
       "\n",
       "    .colab-df-convert:hover {\n",
       "      background-color: #E2EBFA;\n",
       "      box-shadow: 0px 1px 2px rgba(60, 64, 67, 0.3), 0px 1px 3px 1px rgba(60, 64, 67, 0.15);\n",
       "      fill: #174EA6;\n",
       "    }\n",
       "\n",
       "    [theme=dark] .colab-df-convert {\n",
       "      background-color: #3B4455;\n",
       "      fill: #D2E3FC;\n",
       "    }\n",
       "\n",
       "    [theme=dark] .colab-df-convert:hover {\n",
       "      background-color: #434B5C;\n",
       "      box-shadow: 0px 1px 3px 1px rgba(0, 0, 0, 0.15);\n",
       "      filter: drop-shadow(0px 1px 2px rgba(0, 0, 0, 0.3));\n",
       "      fill: #FFFFFF;\n",
       "    }\n",
       "  </style>\n",
       "\n",
       "      <script>\n",
       "        const buttonEl =\n",
       "          document.querySelector('#df-bc6a613e-827a-4966-acfa-c345d28c0002 button.colab-df-convert');\n",
       "        buttonEl.style.display =\n",
       "          google.colab.kernel.accessAllowed ? 'block' : 'none';\n",
       "\n",
       "        async function convertToInteractive(key) {\n",
       "          const element = document.querySelector('#df-bc6a613e-827a-4966-acfa-c345d28c0002');\n",
       "          const dataTable =\n",
       "            await google.colab.kernel.invokeFunction('convertToInteractive',\n",
       "                                                     [key], {});\n",
       "          if (!dataTable) return;\n",
       "\n",
       "          const docLinkHtml = 'Like what you see? Visit the ' +\n",
       "            '<a target=\"_blank\" href=https://colab.research.google.com/notebooks/data_table.ipynb>data table notebook</a>'\n",
       "            + ' to learn more about interactive tables.';\n",
       "          element.innerHTML = '';\n",
       "          dataTable['output_type'] = 'display_data';\n",
       "          await google.colab.output.renderOutput(dataTable, element);\n",
       "          const docLink = document.createElement('div');\n",
       "          docLink.innerHTML = docLinkHtml;\n",
       "          element.appendChild(docLink);\n",
       "        }\n",
       "      </script>\n",
       "    </div>\n",
       "  </div>\n",
       "  "
      ],
      "text/plain": [
       "       Model_C_label\n",
       "index               \n",
       "239                0\n",
       "118                0\n",
       "738                0\n",
       "394                0\n",
       "978                0"
      ]
     },
     "execution_count": 41,
     "metadata": {},
     "output_type": "execute_result"
    }
   ],
   "source": [
    "y_train_C.head()"
   ]
  },
  {
   "cell_type": "code",
   "execution_count": 42,
   "metadata": {
    "executionInfo": {
     "elapsed": 20,
     "status": "ok",
     "timestamp": 1683027319955,
     "user": {
      "displayName": "Dalia Gala",
      "userId": "11225941891099264734"
     },
     "user_tz": -60
    },
    "id": "DhTvvcVXKjkp"
   },
   "outputs": [],
   "source": [
    "# Create a svm Classifier\n",
    "clf = svm.SVC(kernel=\"poly\", probability = True) # Polynomial Kernel"
   ]
  },
  {
   "cell_type": "code",
   "execution_count": 43,
   "metadata": {
    "executionInfo": {
     "elapsed": 854,
     "status": "ok",
     "timestamp": 1683027320790,
     "user": {
      "displayName": "Dalia Gala",
      "userId": "11225941891099264734"
     },
     "user_tz": -60
    },
    "id": "_5DcjACBKlZn"
   },
   "outputs": [],
   "source": [
    "# Train the model using the training sets\n",
    "model = clf.fit(X_train, y_train_A.values.ravel())"
   ]
  },
  {
   "cell_type": "code",
   "execution_count": 44,
   "metadata": {
    "executionInfo": {
     "elapsed": 31,
     "status": "ok",
     "timestamp": 1683027320792,
     "user": {
      "displayName": "Dalia Gala",
      "userId": "11225941891099264734"
     },
     "user_tz": -60
    },
    "id": "SQ_8HrRPKnxb"
   },
   "outputs": [],
   "source": [
    "# Predict the response for test dataset\n",
    "y_pred = clf.predict(X_test)\n",
    "# print(y_pred)"
   ]
  },
  {
   "cell_type": "code",
   "execution_count": 45,
   "metadata": {
    "executionInfo": {
     "elapsed": 29,
     "status": "ok",
     "timestamp": 1683027320792,
     "user": {
      "displayName": "Dalia Gala",
      "userId": "11225941891099264734"
     },
     "user_tz": -60
    },
    "id": "r9uAnWn7Kt7Z"
   },
   "outputs": [],
   "source": [
    "# Predict the response for test dataset with probablities\n",
    "y_pred_proba = clf.predict_proba(X_test)\n",
    "array1 = y_pred_proba[:, 0].reshape(-1, 1).flatten()\n",
    "array2 = y_pred_proba[:, 1].reshape(-1, 1).flatten()"
   ]
  },
  {
   "cell_type": "code",
   "execution_count": 46,
   "metadata": {
    "colab": {
     "base_uri": "https://localhost:8080/",
     "height": 507
    },
    "executionInfo": {
     "elapsed": 29,
     "status": "error",
     "timestamp": 1683027320793,
     "user": {
      "displayName": "Dalia Gala",
      "userId": "11225941891099264734"
     },
     "user_tz": -60
    },
    "id": "v1hN28_zOJP6",
    "outputId": "ae3a5411-739f-4045-c522-4a38833b0824"
   },
   "outputs": [
    {
     "ename": "ModuleNotFoundError",
     "errorDetails": {
      "actions": [
       {
        "action": "open_url",
        "actionText": "Open Examples",
        "url": "/notebooks/snippets/importing_libraries.ipynb"
       }
      ]
     },
     "evalue": "ignored",
     "output_type": "error",
     "traceback": [
      "\u001b[0;31m---------------------------------------------------------------------------\u001b[0m",
      "\u001b[0;31mModuleNotFoundError\u001b[0m                       Traceback (most recent call last)",
      "\u001b[0;32m<ipython-input-46-84151b1c2dd9>\u001b[0m in \u001b[0;36m<cell line: 1>\u001b[0;34m()\u001b[0m\n\u001b[0;32m----> 1\u001b[0;31m \u001b[0;32mfrom\u001b[0m \u001b[0mveritastool\u001b[0m\u001b[0;34m.\u001b[0m\u001b[0mmodel\u001b[0m\u001b[0;34m.\u001b[0m\u001b[0mmodelwrapper\u001b[0m \u001b[0;32mimport\u001b[0m \u001b[0mModelWrapper\u001b[0m\u001b[0;34m\u001b[0m\u001b[0;34m\u001b[0m\u001b[0m\n\u001b[0m\u001b[1;32m      2\u001b[0m \u001b[0;32mfrom\u001b[0m \u001b[0mveritastool\u001b[0m\u001b[0;34m.\u001b[0m\u001b[0mmodel\u001b[0m\u001b[0;34m.\u001b[0m\u001b[0mmodel_container\u001b[0m \u001b[0;32mimport\u001b[0m \u001b[0mModelContainer\u001b[0m\u001b[0;34m\u001b[0m\u001b[0;34m\u001b[0m\u001b[0m\n\u001b[1;32m      3\u001b[0m \u001b[0;32mfrom\u001b[0m \u001b[0mveritastool\u001b[0m\u001b[0;34m.\u001b[0m\u001b[0musecases\u001b[0m\u001b[0;34m.\u001b[0m\u001b[0mpredictive_underwriting\u001b[0m \u001b[0;32mimport\u001b[0m \u001b[0mPredictiveUnderwriting\u001b[0m\u001b[0;34m\u001b[0m\u001b[0;34m\u001b[0m\u001b[0m\n",
      "\u001b[0;32m/usr/local/lib/python3.10/dist-packages/veritastool/__init__.py\u001b[0m in \u001b[0;36m<module>\u001b[0;34m\u001b[0m\n\u001b[0;32m----> 1\u001b[0;31m \u001b[0;32mfrom\u001b[0m \u001b[0;34m.\u001b[0m\u001b[0mmodel_container\u001b[0m \u001b[0;32mimport\u001b[0m \u001b[0mModelContainer\u001b[0m\u001b[0;34m\u001b[0m\u001b[0;34m\u001b[0m\u001b[0m\n\u001b[0m\u001b[1;32m      2\u001b[0m \u001b[0;34m\u001b[0m\u001b[0m\n\u001b[1;32m      3\u001b[0m \u001b[0;31m# from os.path import dirname, basename, isfile, join\u001b[0m\u001b[0;34m\u001b[0m\u001b[0;34m\u001b[0m\u001b[0m\n\u001b[1;32m      4\u001b[0m \u001b[0;31m# import glob\u001b[0m\u001b[0;34m\u001b[0m\u001b[0;34m\u001b[0m\u001b[0m\n\u001b[1;32m      5\u001b[0m \u001b[0;31m# modules = glob.glob(join(dirname(\"__file__\"), \"*.py\"))\u001b[0m\u001b[0;34m\u001b[0m\u001b[0;34m\u001b[0m\u001b[0m\n",
      "\u001b[0;32m/usr/local/lib/python3.10/dist-packages/veritastool/model_container.py\u001b[0m in \u001b[0;36m<module>\u001b[0;34m\u001b[0m\n\u001b[1;32m      1\u001b[0m \u001b[0;31m#import ModelWrapper\u001b[0m\u001b[0;34m\u001b[0m\u001b[0;34m\u001b[0m\u001b[0m\n\u001b[1;32m      2\u001b[0m \u001b[0;32mfrom\u001b[0m \u001b[0;34m.\u001b[0m\u001b[0mcustom\u001b[0m\u001b[0;34m.\u001b[0m\u001b[0mmodelwrapper\u001b[0m \u001b[0;32mimport\u001b[0m \u001b[0mModelWrapper\u001b[0m\u001b[0;34m\u001b[0m\u001b[0;34m\u001b[0m\u001b[0m\n\u001b[0;32m----> 3\u001b[0;31m \u001b[0;32mfrom\u001b[0m \u001b[0mveritas\u001b[0m\u001b[0;34m.\u001b[0m\u001b[0mutility\u001b[0m \u001b[0;32mimport\u001b[0m \u001b[0mcheck_datatype\u001b[0m\u001b[0;34m,\u001b[0m \u001b[0mcheck_value\u001b[0m\u001b[0;34m,\u001b[0m \u001b[0mcheck_label\u001b[0m\u001b[0;34m\u001b[0m\u001b[0;34m\u001b[0m\u001b[0m\n\u001b[0m\u001b[1;32m      4\u001b[0m \u001b[0;32mimport\u001b[0m \u001b[0mnumpy\u001b[0m \u001b[0;32mas\u001b[0m \u001b[0mnp\u001b[0m\u001b[0;34m\u001b[0m\u001b[0;34m\u001b[0m\u001b[0m\n\u001b[1;32m      5\u001b[0m \u001b[0;32mimport\u001b[0m \u001b[0mpandas\u001b[0m \u001b[0;32mas\u001b[0m \u001b[0mpd\u001b[0m\u001b[0;34m\u001b[0m\u001b[0;34m\u001b[0m\u001b[0m\n",
      "\u001b[0;31mModuleNotFoundError\u001b[0m: No module named 'veritas.utility'",
      "",
      "\u001b[0;31m---------------------------------------------------------------------------\u001b[0;32m\nNOTE: If your import is failing due to a missing package, you can\nmanually install dependencies using either !pip or !apt.\n\nTo view examples of installing some common dependencies, click the\n\"Open Examples\" button below.\n\u001b[0;31m---------------------------------------------------------------------------\u001b[0m\n"
     ]
    }
   ],
   "source": [
    "from veritastool.model.modelwrapper import ModelWrapper\n",
    "from veritastool.model.model_container import ModelContainer\n",
    "from veritastool.usecases.predictive_underwriting import PredictiveUnderwriting"
   ]
  },
  {
   "cell_type": "code",
   "execution_count": null,
   "metadata": {
    "executionInfo": {
     "elapsed": 26,
     "status": "aborted",
     "timestamp": 1683027320793,
     "user": {
      "displayName": "Dalia Gala",
      "userId": "11225941891099264734"
     },
     "user_tz": -60
    },
    "id": "5AYHjOfjJAvo"
   },
   "outputs": [],
   "source": [
    "# Append predictions to X_test dataframe\n",
    "X_test[\"Predicted\"] = y_pred\n",
    "X_test[\"Prob_0\"] = array1\n",
    "X_test[\"Prob_1\"] = array2\n",
    "X_train[\"Predicted\"] = \"train\"\n",
    "X_full = pd.concat([X_test, X_train])\n",
    "X_full.to_csv('gdrive/My Drive/Accenture x Turing/Data/Test_X_A.csv')"
   ]
  },
  {
   "cell_type": "code",
   "execution_count": null,
   "metadata": {
    "executionInfo": {
     "elapsed": 25,
     "status": "aborted",
     "timestamp": 1683027320793,
     "user": {
      "displayName": "Dalia Gala",
      "userId": "11225941891099264734"
     },
     "user_tz": -60
    },
    "id": "NSJo1Fc0K7co"
   },
   "outputs": [],
   "source": [
    "# Calculate accuracy\n",
    "accuracy = metrics.accuracy_score(y_test, y_pred)\n",
    "\n",
    "# Calculate precision\n",
    "precision = metrics.precision_score(y_test, y_pred)\n",
    "\n",
    "# Calculate recall\n",
    "recall = metrics.recall_score(y_test, y_pred)\n",
    "print(len(X_data))"
   ]
  },
  {
   "cell_type": "code",
   "execution_count": null,
   "metadata": {
    "executionInfo": {
     "elapsed": 26,
     "status": "aborted",
     "timestamp": 1683027320794,
     "user": {
      "displayName": "Dalia Gala",
      "userId": "11225941891099264734"
     },
     "user_tz": -60
    },
    "id": "QtXiWwcL-MAt"
   },
   "outputs": [],
   "source": [
    "# Write a function to train an SVM\n",
    "def train_and_predict(name, X_train, X_test, y_train, y_test, kernel='poly'):\n",
    "    # Define X and Y data\n",
    "    name=name\n",
    "\n",
    "    # Create a svm Classifier\n",
    "    clf = svm.SVC(kernel=kernel, probability = True) # Polynomial Kernel\n",
    "\n",
    "    # Train the model using the training sets\n",
    "    model = clf.fit(X_train, y_train.values.ravel())\n",
    "\n",
    "    # Predict the response for test dataset\n",
    "    y_pred = clf.predict(X_test)\n",
    "    cm = confusion_matrix(y_pred, y_test)\n",
    "\n",
    "    # Predict the probabilities for test dataset\n",
    "    y_pred_proba = clf.predict_proba(X_test)\n",
    "\n",
    "    # Change class probabilities into 2 flat numpy arrays\n",
    "    array1 = y_pred_proba[:, 0].reshape(-1, 1).flatten()\n",
    "    array2 = y_pred_proba[:, 1].reshape(-1, 1).flatten()\n",
    "\n",
    "    # Append predictions to X_test dataframe\n",
    "    X_eval = X_test.copy(deep=True)\n",
    "    X_eval[f\"Predicted_%s\" % name] = y_pred\n",
    "\n",
    "    # Append probability predictions to X_test dataframe\n",
    "    X_eval[f\"Prob_0_%s\" % name] = array1\n",
    "    X_eval[f\"Prob_1_%s\" % name] = array2\n",
    "\n",
    "    # Mark which data was used for training\n",
    "    X_tr = X_train.copy(deep = True)\n",
    "    X_tr[f\"Predicted_%s\" % name] = \"train\"\n",
    "\n",
    "    # Concatenate training and test data\n",
    "    X_full = pd.concat([X_eval, X_tr])\n",
    "\n",
    "    # Reset index and retain old index to be able to get back to sensitive data\n",
    "    X_full = X_full.reset_index()\n",
    "\n",
    "    # Calculate accuracy\n",
    "    accuracy = metrics.accuracy_score(y_test, y_pred)\n",
    "\n",
    "    # Calculate precision\n",
    "    precision = metrics.precision_score(y_test, y_pred)\n",
    "\n",
    "    # Calculate recall\n",
    "    recall = metrics.recall_score(y_test, y_pred)\n",
    "\n",
    "    return accuracy, precision, recall, X_full, cm"
   ]
  },
  {
   "cell_type": "code",
   "execution_count": null,
   "metadata": {
    "executionInfo": {
     "elapsed": 25,
     "status": "aborted",
     "timestamp": 1683027320794,
     "user": {
      "displayName": "Dalia Gala",
      "userId": "11225941891099264734"
     },
     "user_tz": -60
    },
    "id": "W9lZmk2j-nDW"
   },
   "outputs": [],
   "source": [
    "# Call the function for each model\n",
    "accuracy_A, precision_A, recall_A, X_full_A, cm_A = train_and_predict(\"A\", X_train, X_test, y_train_A, y_test_A)\n",
    "accuracy_B, precision_B, recall_B, X_full_B, cm_B = train_and_predict(\"B\", X_train, X_test, y_train_B, y_test_B)\n",
    "accuracy_C, precision_C, recall_C, X_full_C, cm_C = train_and_predict(\"C\", X_train, X_test, y_train_C, y_test_C)\n",
    "\n",
    "# Print the accuracy, precision, and recall for each model\n",
    "print(\"Model A - Accuracy:\", accuracy_A)\n",
    "print(\"Model A - Precision:\", precision_A)\n",
    "print(\"Model A - Recall:\", recall_A)\n",
    "\n",
    "print(\"Model B - Accuracy:\", accuracy_B)\n",
    "print(\"Model B - Precision:\", precision_B)\n",
    "print(\"Model B - Recall:\", recall_B)\n",
    "\n",
    "print(\"Model C - Accuracy:\", accuracy_C)\n",
    "print(\"Model C - Precision:\", precision_C)\n",
    "print(\"Model C - Recall:\", recall_C)"
   ]
  },
  {
   "cell_type": "code",
   "execution_count": null,
   "metadata": {
    "executionInfo": {
     "elapsed": 26,
     "status": "aborted",
     "timestamp": 1683027320795,
     "user": {
      "displayName": "Dalia Gala",
      "userId": "11225941891099264734"
     },
     "user_tz": -60
    },
    "id": "gLyP3M8x6mTD"
   },
   "outputs": [],
   "source": [
    "# # Write a function to train an SVM\n",
    "# def train_and_predict(df, name, test_size=0.2, kernel='poly'):\n",
    "#     # Define X and Y data\n",
    "#     df.drop(columns=df.columns[0], axis=1, inplace=True)\n",
    "#     name=name\n",
    "#     X_data, Y_data = df.iloc[:, :-1], df.iloc[:, [-1]]\n",
    "\n",
    "#     # Split the dataset\n",
    "#     X_train, X_test, y_train, y_test = train_test_split(X_data, Y_data, test_size=test_size)\n",
    "\n",
    "#     # Create a svm Classifier\n",
    "#     clf = svm.SVC(kernel=kernel, probability = True) # Polynomial Kernel\n",
    "\n",
    "#     # Train the model using the training sets\n",
    "#     model = clf.fit(X_train, y_train.values.ravel())\n",
    "\n",
    "#     # Predict the response for test dataset\n",
    "#     y_pred = clf.predict(X_test)\n",
    "#     cm = confusion_matrix(y_pred, y_test)\n",
    "\n",
    "#     # Predict the probabilities for test dataset\n",
    "#     y_pred_proba = clf.predict_proba(X_test)\n",
    "\n",
    "#     # Change class probabilities into 2 flat numpy arrays\n",
    "#     array1 = y_pred_proba[:, 0].reshape(-1, 1).flatten()\n",
    "#     array2 = y_pred_proba[:, 1].reshape(-1, 1).flatten()\n",
    "\n",
    "#     # Append predictions to X_test dataframe\n",
    "#     X_test[f\"Predicted_%s\" % name] = y_pred\n",
    "\n",
    "#     # Append probability predictions to X_test dataframe\n",
    "#     X_test[f\"Prob_0_%s\" % name] = array1\n",
    "#     X_test[f\"Prob_1_%s\" % name] = array2\n",
    "\n",
    "#     # Mark which data was used for training\n",
    "#     X_train[f\"Predicted_%s\" % name] = \"train\"\n",
    "\n",
    "#     # Concatenate training and test data\n",
    "#     X_full = pd.concat([X_test, X_train])\n",
    "\n",
    "#     # Reset index and retain old index to be able to get back to sensitive data\n",
    "#     X_full = X_full.reset_index()\n",
    "\n",
    "#     # Calculate accuracy\n",
    "#     accuracy = metrics.accuracy_score(y_test, y_pred)\n",
    "\n",
    "#     # Calculate precision\n",
    "#     precision = metrics.precision_score(y_test, y_pred)\n",
    "\n",
    "#     # Calculate recall\n",
    "#     recall = metrics.recall_score(y_test, y_pred)\n",
    "\n",
    "#     return accuracy, precision, recall, X_full, cm"
   ]
  },
  {
   "cell_type": "code",
   "execution_count": null,
   "metadata": {
    "executionInfo": {
     "elapsed": 26,
     "status": "aborted",
     "timestamp": 1683027320795,
     "user": {
      "displayName": "Dalia Gala",
      "userId": "11225941891099264734"
     },
     "user_tz": -60
    },
    "id": "hzD5Quy35KIq"
   },
   "outputs": [],
   "source": [
    "# # Call the function for each dataframe\n",
    "# A = pd.read_csv('gdrive/My Drive/Accenture x Turing/Data/Experiment_2/Model_A_25_625_percent_bat_26_prob_no_bottom_85th_linspace.csv')\n",
    "# accuracy_A, precision_A, recall_A, X_full_A, cm_A = train_and_predict(A, \"A\")\n",
    "\n",
    "# B = pd.read_csv('gdrive/My Drive/Accenture x Turing/Data/Experiment_2/Model_B_25_625_percent_bat_26_prob_no_bottom_85th_linspace.csv')\n",
    "# accuracy_B, precision_B, recall_B, X_full_B, cm_B = train_and_predict(B, \"B\")\n",
    "\n",
    "# C = pd.read_csv('gdrive/My Drive/Accenture x Turing/Data/Experiment_2/Model_C_25_625_percent_bat_26_prob_no_bottom_85th_linspace.csv')\n",
    "# accuracy_C, precision_C, recall_C, X_full_C, cm_C = train_and_predict(C, \"C\")\n",
    "\n",
    "# # Print the accuracy, precision, and recall for each model\n",
    "# print(\"Model A - Accuracy:\", accuracy_A)\n",
    "# print(\"Model A - Precision:\", precision_A)\n",
    "# print(\"Model A - Recall:\", recall_A)\n",
    "\n",
    "# print(\"Model B - Accuracy:\", accuracy_B)\n",
    "# print(\"Model B - Precision:\", precision_B)\n",
    "# print(\"Model B - Recall:\", recall_B)\n",
    "\n",
    "# print(\"Model C - Accuracy:\", accuracy_C)\n",
    "# print(\"Model C - Precision:\", precision_C)\n",
    "# print(\"Model C - Recall:\", recall_C)"
   ]
  },
  {
   "cell_type": "code",
   "execution_count": null,
   "metadata": {
    "executionInfo": {
     "elapsed": 27,
     "status": "aborted",
     "timestamp": 1683027320796,
     "user": {
      "displayName": "Dalia Gala",
      "userId": "11225941891099264734"
     },
     "user_tz": -60
    },
    "id": "Vi-DXp5_Y56W"
   },
   "outputs": [],
   "source": [
    "X_full_A.head()"
   ]
  },
  {
   "cell_type": "code",
   "execution_count": null,
   "metadata": {
    "executionInfo": {
     "elapsed": 27,
     "status": "aborted",
     "timestamp": 1683027320796,
     "user": {
      "displayName": "Dalia Gala",
      "userId": "11225941891099264734"
     },
     "user_tz": -60
    },
    "id": "GJyvNTBu94VH"
   },
   "outputs": [],
   "source": [
    "# Merge dataframes for each model on old index; retain subtest results and all predictions for 3 models\n",
    "full = pd.merge(X_full_A,X_full_B[['index','Predicted_B', 'Prob_0_B', \"Prob_1_B\"]],on='index', how='left')\n",
    "full = pd.merge(full,X_full_C[['index','Predicted_C', 'Prob_0_C', \"Prob_1_C\"]],on='index', how='left')\n",
    "full.head()"
   ]
  },
  {
   "cell_type": "code",
   "execution_count": null,
   "metadata": {
    "executionInfo": {
     "elapsed": 26,
     "status": "aborted",
     "timestamp": 1683027320797,
     "user": {
      "displayName": "Dalia Gala",
      "userId": "11225941891099264734"
     },
     "user_tz": -60
    },
    "id": "5U4Iik1ClA_D"
   },
   "outputs": [],
   "source": [
    "# Look at the original data to get protected characteristics\n",
    "\n",
    "orig_df = pd.read_csv('gdrive/My Drive/Accenture x Turing/Data/Experiment_2/Rerun_6_pc/All_models_25_6_percent_bat_26_prob_no_bottom_85th_linspace.csv')\n",
    "orig_df = orig_df.rename(columns={'Unnamed: 0': 'index'})\n",
    "orig_df.head()"
   ]
  },
  {
   "cell_type": "code",
   "execution_count": null,
   "metadata": {
    "executionInfo": {
     "elapsed": 26,
     "status": "aborted",
     "timestamp": 1683027320797,
     "user": {
      "displayName": "Dalia Gala",
      "userId": "11225941891099264734"
     },
     "user_tz": -60
    },
    "id": "QjYPBU5QfXJE"
   },
   "outputs": [],
   "source": [
    "complete = pd.merge(full,orig_df[['index', 'age', 'gender', 'education_level', 'country', 'Model_A_label', 'Model_B_label', 'Model_C_label']],on='index', how='left')\n",
    "labels_to_drop = [\"subtest_27\", \"subtest_28\", \"subtest_29\", \"subtest_30\", \"subtest_32\", \"subtest_33\", \"subtest_36\", \"subtest_37\", \"subtest_38\", \"subtest_39\", \"subtest_40\"]\n",
    "complete = complete.drop(labels_to_drop, axis = 1)\n",
    "complete.to_csv('gdrive/My Drive/Accenture x Turing/Data/Experiment_2/Rerun_6_pc/Complete_results_exp_2.csv')\n",
    "cm_A = pd.DataFrame(cm_A)\n",
    "cm_B = pd.DataFrame(cm_B)\n",
    "cm_C = pd.DataFrame(cm_C)\n",
    "cm_A.to_csv('gdrive/My Drive/Accenture x Turing/Data/Experiment_2/Rerun_6_pc/cm_A.csv')\n",
    "cm_B.to_csv('gdrive/My Drive/Accenture x Turing/Data/Experiment_2/Rerun_6_pc/cm_B.csv')\n",
    "cm_C.to_csv('gdrive/My Drive/Accenture x Turing/Data/Experiment_2/Rerun_6_pc/cm_C.csv')"
   ]
  },
  {
   "cell_type": "code",
   "execution_count": null,
   "metadata": {
    "executionInfo": {
     "elapsed": 24,
     "status": "aborted",
     "timestamp": 1683027320798,
     "user": {
      "displayName": "Dalia Gala",
      "userId": "11225941891099264734"
     },
     "user_tz": -60
    },
    "id": "JQodWBCZDQOL"
   },
   "outputs": [],
   "source": [
    "# Plot confusion matrices\n",
    "\n",
    "# create heatmap of confusion matrix\n",
    "plt.figure(figsize=(8, 6))\n",
    "sns.heatmap(cm_B, annot=True, cmap='Blues', fmt='g')\n",
    "plt.xlabel('Predicted')\n",
    "plt.ylabel('True')\n",
    "plt.show()"
   ]
  },
  {
   "cell_type": "code",
   "execution_count": null,
   "metadata": {
    "executionInfo": {
     "elapsed": 25,
     "status": "aborted",
     "timestamp": 1683027320799,
     "user": {
      "displayName": "Dalia Gala",
      "userId": "11225941891099264734"
     },
     "user_tz": -60
    },
    "id": "n_Dh-I0dLPiW"
   },
   "outputs": [],
   "source": [
    "# Select train data\n",
    "train = df.loc[df[\"Predicted_A\"] != \"train\"]\n",
    "\n",
    "# Visualise test data properties - Education\n",
    "labels_education = train['education_level'].unique()\n",
    "education_dict = {\n",
    "    1: 'Some high school',\n",
    "    2: 'High school diploma / GED',\n",
    "    3: 'Some college',\n",
    "    4: 'College degree',\n",
    "    5: 'Professional degree',\n",
    "    6: \"Master's degree\",\n",
    "    7: 'Ph.D.',\n",
    "    8: \"Associate's degree\",\n",
    "    99: 'Other'\n",
    "}\n",
    "\n",
    "# Replace the numbers with the corresponding education level strings\n",
    "new_labels_education = list(map(lambda x: education_dict.get(int(x), 'Unknown'), labels_education))\n",
    "train=train.replace({\"education_level\": education_dict})\n",
    "counts_education = train['education_level'].value_counts()\n",
    "counts_education = counts_education.to_dict()\n",
    "types = list(counts_education.keys())\n",
    "sizes = list(counts_education.values())\n",
    "# print(counts_education)\n",
    "# sizes_education = counts_education\n",
    "\n",
    "# Visualise test data properties - Gender\n",
    "labels_gender = train['gender'].unique()\n",
    "no_f, no_m = train['gender'].value_counts()\n",
    "sizes_gender = [no_f, no_m]\n",
    "\n",
    "# Visualise test data properties - Age\n",
    "labels_age = train['age'].unique()\n",
    "ages = train['age'].value_counts()\n",
    "\n",
    "# Create the histogram\n",
    "fig, (ax1, ax2, ax3) = plt.subplots(1, 3, figsize=(12,4))\n",
    "\n",
    "# Plot histogram of ages in the first subplot\n",
    "ax1.hist(ages.index, weights=ages.values, bins=range(18, 81, 5), edgecolor='black')\n",
    "ax1.set_xlabel('Age')\n",
    "ax1.set_ylabel('Frequency')\n",
    "ax1.set_title('Age Distribution')\n",
    "\n",
    "# Plot pie chart for Gender in the second subplot\n",
    "ax2.pie(sizes_gender, labels=labels_gender, autopct='%1.0f%%')\n",
    "ax2.set_title('Gender')\n",
    "\n",
    "# Plot pie chart for Education in the third subplot\n",
    "ax3.pie(sizes, labels=types, autopct='%1.0f%%')\n",
    "ax3.set_title('Education')\n",
    "\n",
    "# Show the plot\n",
    "plt.show()"
   ]
  },
  {
   "cell_type": "code",
   "execution_count": null,
   "metadata": {
    "executionInfo": {
     "elapsed": 22,
     "status": "aborted",
     "timestamp": 1683027320799,
     "user": {
      "displayName": "Dalia Gala",
      "userId": "11225941891099264734"
     },
     "user_tz": -60
    },
    "id": "I5EC2y0NptnZ"
   },
   "outputs": [],
   "source": [
    "Train_data = pd.merge(X_train, df_mod_A_orig, left_index=True, right_index=True)\n",
    "Train_data_full = Train_data.iloc[:, 8:27]\n",
    "Train_data_full = Train_data_full.iloc[:, [0, 1, 2, 3, 4, 5, 6, 7, 8, 9, 18]]\n",
    "Train_data_full.head()"
   ]
  },
  {
   "cell_type": "code",
   "execution_count": null,
   "metadata": {
    "executionInfo": {
     "elapsed": 23,
     "status": "aborted",
     "timestamp": 1683027320800,
     "user": {
      "displayName": "Dalia Gala",
      "userId": "11225941891099264734"
     },
     "user_tz": -60
    },
    "id": "vFyGrWSRulGo"
   },
   "outputs": [],
   "source": [
    "# Visualise train data properties - Education\n",
    "labels_education_train = Train_data_full['education_level'].unique()\n",
    "education_dict = {\n",
    "    1: 'Some high school',\n",
    "    2: 'High school diploma / GED',\n",
    "    3: 'Some college',\n",
    "    4: 'College degree',\n",
    "    5: 'Professional degree',\n",
    "    6: \"Master's degree\",\n",
    "    7: 'Ph.D.',\n",
    "    8: \"Associate's degree\",\n",
    "    99: 'Other'\n",
    "}\n",
    "\n",
    "# Replace the numbers with the corresponding education level strings\n",
    "new_labels_education_train = list(map(lambda x: education_dict.get(int(x), 'Unknown'), labels_education_train))\n",
    "counts_education_train = Train_data_full['education_level'].value_counts()\n",
    "sizes_education_train = counts_education_train\n",
    "\n",
    "# Visualise test data properties - Gender\n",
    "labels_gender_train = Train_data_full['gender'].unique()\n",
    "no_f_train, no_m_train = Train_data_full['gender'].value_counts()\n",
    "sizes_gender_train = [no_f_train, no_m_train]\n",
    "\n",
    "# Visualise test data properties - Age\n",
    "labels_age_train = Train_data_full['age'].unique()\n",
    "ages_train = Train_data_full['age'].value_counts()\n",
    "\n",
    "# Create the histogram\n",
    "fig, (ax1, ax2, ax3) = plt.subplots(1, 3, figsize=(12,4))\n",
    "\n",
    "# Plot histogram of ages in the first subplot\n",
    "ax1.hist(ages_train.index, weights=ages_train.values, bins=range(18, 81, 5), edgecolor='black')\n",
    "ax1.set_xlabel('Age')\n",
    "ax1.set_ylabel('Frequency')\n",
    "ax1.set_title('Age Distribution')\n",
    "\n",
    "# Plot pie chart for Gender in the second subplot\n",
    "ax2.pie(sizes_gender_train, labels=labels_gender_train, autopct='%1.0f%%')\n",
    "ax2.set_title('Gender')\n",
    "\n",
    "# Plot pie chart for Education in the third subplot\n",
    "ax3.pie(sizes_education_train, labels=new_labels_education_train, autopct='%1.0f%%')\n",
    "ax3.set_title('Education')\n",
    "\n",
    "# Show the plot\n",
    "plt.show()"
   ]
  },
  {
   "cell_type": "code",
   "execution_count": null,
   "metadata": {
    "executionInfo": {
     "elapsed": 23,
     "status": "aborted",
     "timestamp": 1683027320800,
     "user": {
      "displayName": "Dalia Gala",
      "userId": "11225941891099264734"
     },
     "user_tz": -60
    },
    "id": "RCSAcxxAP_o4"
   },
   "outputs": [],
   "source": [
    "# Select incorrectly classified data\n",
    "True_positives = test_df_with_data[(test_df_with_data['Predicted'] == 1) & (test_df_with_data['Label_y'] == 1)]\n",
    "True_negatives = test_df_with_data[(test_df_with_data['Predicted'] == 0) & (test_df_with_data['Label_y'] == 0)]\n",
    "False_positives = test_df_with_data[(test_df_with_data['Predicted'] == 1) & (test_df_with_data['Label_y'] == 0)]\n",
    "False_negatives = test_df_with_data[(test_df_with_data['Predicted'] == 0) & (test_df_with_data['Label_y'] == 1)]\n",
    "\n",
    "# Visualise test data properties - Education\n",
    "labels_education = True_positives['education_level'].unique()\n",
    "education_dict = {\n",
    "    1: 'Some high school',\n",
    "    2: 'High school diploma / GED',\n",
    "    3: 'Some college',\n",
    "    4: 'College degree',\n",
    "    5: 'Professional degree',\n",
    "    6: \"Master's degree\",\n",
    "    7: 'Ph.D.',\n",
    "    8: \"Associate's degree\",\n",
    "    99: 'Other'\n",
    "}\n",
    "\n",
    "# Replace the numbers with the corresponding education level strings\n",
    "new_labels_education = list(map(lambda x: education_dict.get(int(x), 'Unknown'), labels_education))\n",
    "counts_education = True_negatives['education_level'].value_counts()\n",
    "sizes_education = counts_education\n",
    "\n",
    "# Visualise test data properties - Gender\n",
    "labels_gender = True_negatives['gender'].unique()\n",
    "no_f, no_m = True_negatives['gender'].value_counts()\n",
    "sizes_gender = [no_f, no_m]\n",
    "\n",
    "# Visualise test data properties - Age\n",
    "labels_age = True_negatives['age'].unique()\n",
    "ages = True_negatives['age'].value_counts()\n",
    "\n",
    "# Create the histogram\n",
    "fig, (ax1, ax2, ax3) = plt.subplots(1, 3, figsize=(12,4))\n",
    "\n",
    "# Plot histogram of ages in the first subplot\n",
    "ax1.hist(ages.index, weights=ages.values, bins=range(18, 81, 5), edgecolor='black')\n",
    "ax1.set_xlabel('Age')\n",
    "ax1.set_ylabel('Frequency')\n",
    "ax1.set_title('Age Distribution')\n",
    "\n",
    "# Plot pie chart for Gender in the second subplot\n",
    "ax2.pie(sizes_gender, labels=labels_gender, autopct='%1.0f%%')\n",
    "ax2.set_title('Gender')\n",
    "\n",
    "# Plot pie chart for Education in the third subplot\n",
    "ax3.pie(sizes_education, labels=new_labels_education, autopct='%1.0f%%')\n",
    "ax3.set_title('Education')\n",
    "\n",
    "# Show the plot\n",
    "plt.show()"
   ]
  },
  {
   "cell_type": "code",
   "execution_count": null,
   "metadata": {
    "executionInfo": {
     "elapsed": 24,
     "status": "aborted",
     "timestamp": 1683027320801,
     "user": {
      "displayName": "Dalia Gala",
      "userId": "11225941891099264734"
     },
     "user_tz": -60
    },
    "id": "rvLpKvDSF0fQ"
   },
   "outputs": [],
   "source": [
    "# Extra code for additional measures if we want it\n",
    "FP = confusion_matrix.sum(axis=0) - np.diag(confusion_matrix)  \n",
    "FN = confusion_matrix.sum(axis=1) - np.diag(confusion_matrix)\n",
    "TP = np.diag(confusion_matrix)\n",
    "TN = confusion_matrix.values.sum() - (FP + FN + TP)\n",
    "\n",
    "# Sensitivity, hit rate, recall, or true positive rate\n",
    "TPR = TP/(TP+FN)\n",
    "# Specificity or true negative rate\n",
    "TNR = TN/(TN+FP) \n",
    "# Precision or positive predictive value\n",
    "PPV = TP/(TP+FP)\n",
    "# Negative predictive value\n",
    "NPV = TN/(TN+FN)\n",
    "# Fall out or false positive rate\n",
    "FPR = FP/(FP+TN)\n",
    "# False negative rate\n",
    "FNR = FN/(TP+FN)\n",
    "# False discovery rate\n",
    "FDR = FP/(TP+FP)\n",
    "\n",
    "# Overall accuracy\n",
    "ACC = (TP+TN)/(TP+FP+FN+TN)"
   ]
  }
 ],
 "metadata": {
  "colab": {
   "authorship_tag": "ABX9TyOyqjMhsYDmYw0UB1soenB9",
   "provenance": []
  },
  "kernelspec": {
   "display_name": "Python 3 (ipykernel)",
   "language": "python",
   "name": "python3"
  },
  "language_info": {
   "codemirror_mode": {
    "name": "ipython",
    "version": 3
   },
   "file_extension": ".py",
   "mimetype": "text/x-python",
   "name": "python",
   "nbconvert_exporter": "python",
   "pygments_lexer": "ipython3",
   "version": "3.10.11"
  }
 },
 "nbformat": 4,
 "nbformat_minor": 4
}
