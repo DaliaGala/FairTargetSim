{
 "cells": [
  {
   "cell_type": "code",
   "execution_count": 8,
   "id": "fce66e6a-fae0-4233-841e-bde8eb3ea19f",
   "metadata": {},
   "outputs": [],
   "source": [
    "#Libraries\n",
    "import pandas as pd\n",
    "import numpy as np\n",
    "import matplotlib as plt\n",
    "from matplotlib import pyplot"
   ]
  },
  {
   "cell_type": "code",
   "execution_count": 54,
   "id": "177d6b52-924c-4e58-a3a9-392401ad8b0b",
   "metadata": {},
   "outputs": [
    {
     "name": "stdout",
     "output_type": "stream",
     "text": [
      "The number of users selected by the cutoff of {GI_cutoff_value} is: 196\n",
      "The % of users compared to all is: 0.06157712849513038 %\n"
     ]
    },
    {
     "data": {
      "text/html": [
       "<div>\n",
       "<style scoped>\n",
       "    .dataframe tbody tr th:only-of-type {\n",
       "        vertical-align: middle;\n",
       "    }\n",
       "\n",
       "    .dataframe tbody tr th {\n",
       "        vertical-align: top;\n",
       "    }\n",
       "\n",
       "    .dataframe thead th {\n",
       "        text-align: right;\n",
       "    }\n",
       "</style>\n",
       "<table border=\"1\" class=\"dataframe\">\n",
       "  <thead>\n",
       "    <tr style=\"text-align: right;\">\n",
       "      <th></th>\n",
       "      <th>user_id</th>\n",
       "      <th>age</th>\n",
       "      <th>gender</th>\n",
       "      <th>education_level</th>\n",
       "      <th>country</th>\n",
       "      <th>test_run_id</th>\n",
       "      <th>battery_id</th>\n",
       "      <th>specific_subtest_id</th>\n",
       "      <th>raw_score</th>\n",
       "      <th>time_of_day</th>\n",
       "      <th>grand_index</th>\n",
       "    </tr>\n",
       "  </thead>\n",
       "  <tbody>\n",
       "    <tr>\n",
       "      <th>10586</th>\n",
       "      <td>490472</td>\n",
       "      <td>28.0</td>\n",
       "      <td>f</td>\n",
       "      <td>4.0</td>\n",
       "      <td>US</td>\n",
       "      <td>446488</td>\n",
       "      <td>50</td>\n",
       "      <td>29</td>\n",
       "      <td>31.0</td>\n",
       "      <td>15</td>\n",
       "      <td>157.755448</td>\n",
       "    </tr>\n",
       "    <tr>\n",
       "      <th>10587</th>\n",
       "      <td>490472</td>\n",
       "      <td>28.0</td>\n",
       "      <td>f</td>\n",
       "      <td>4.0</td>\n",
       "      <td>US</td>\n",
       "      <td>446488</td>\n",
       "      <td>50</td>\n",
       "      <td>45</td>\n",
       "      <td>81.0</td>\n",
       "      <td>15</td>\n",
       "      <td>157.755448</td>\n",
       "    </tr>\n",
       "    <tr>\n",
       "      <th>10588</th>\n",
       "      <td>490472</td>\n",
       "      <td>28.0</td>\n",
       "      <td>f</td>\n",
       "      <td>4.0</td>\n",
       "      <td>US</td>\n",
       "      <td>446488</td>\n",
       "      <td>50</td>\n",
       "      <td>43</td>\n",
       "      <td>15.0</td>\n",
       "      <td>15</td>\n",
       "      <td>157.755448</td>\n",
       "    </tr>\n",
       "    <tr>\n",
       "      <th>10589</th>\n",
       "      <td>490472</td>\n",
       "      <td>28.0</td>\n",
       "      <td>f</td>\n",
       "      <td>4.0</td>\n",
       "      <td>US</td>\n",
       "      <td>446488</td>\n",
       "      <td>50</td>\n",
       "      <td>44</td>\n",
       "      <td>12.0</td>\n",
       "      <td>15</td>\n",
       "      <td>157.755448</td>\n",
       "    </tr>\n",
       "    <tr>\n",
       "      <th>10590</th>\n",
       "      <td>490472</td>\n",
       "      <td>28.0</td>\n",
       "      <td>f</td>\n",
       "      <td>4.0</td>\n",
       "      <td>US</td>\n",
       "      <td>446488</td>\n",
       "      <td>50</td>\n",
       "      <td>39</td>\n",
       "      <td>12.0</td>\n",
       "      <td>15</td>\n",
       "      <td>157.755448</td>\n",
       "    </tr>\n",
       "  </tbody>\n",
       "</table>\n",
       "</div>"
      ],
      "text/plain": [
       "       user_id   age gender  education_level country  test_run_id  battery_id  \\\n",
       "10586   490472  28.0      f              4.0      US       446488          50   \n",
       "10587   490472  28.0      f              4.0      US       446488          50   \n",
       "10588   490472  28.0      f              4.0      US       446488          50   \n",
       "10589   490472  28.0      f              4.0      US       446488          50   \n",
       "10590   490472  28.0      f              4.0      US       446488          50   \n",
       "\n",
       "       specific_subtest_id  raw_score  time_of_day  grand_index  \n",
       "10586                   29       31.0           15   157.755448  \n",
       "10587                   45       81.0           15   157.755448  \n",
       "10588                   43       15.0           15   157.755448  \n",
       "10589                   44       12.0           15   157.755448  \n",
       "10590                   39       12.0           15   157.755448  "
      ]
     },
     "execution_count": 54,
     "metadata": {},
     "output_type": "execute_result"
    }
   ],
   "source": [
    "#See who has highest grand index scores\n",
    "#Load data\n",
    "df = pd.read_csv(\"battery50_df.csv\")\n",
    "#Select scores with Grand Index above some value\n",
    "GI_cutoff_value = 150\n",
    "highest_scores = df.loc[(df['grand_index'] >= GI_cutoff_value)]\n",
    "#How many users did we select?\n",
    "print(\"The number of users selected by the cutoff of {GI_cutoff_value} is:\", len(highest_scores[\"user_id\"].unique()))\n",
    "#What is the percentage of users compared to all data?\n",
    "print(\"The % of users compared to all is:\", (len(highest_scores[\"user_id\"].unique()))/len(df[\"user_id\"].unique())*100, \"%\")\n",
    "#See high score dataframe head\n",
    "#highest_scores.head()"
   ]
  },
  {
   "cell_type": "code",
   "execution_count": 60,
   "id": "7f69b501-04b7-42b2-86ff-beb38fc81ef5",
   "metadata": {},
   "outputs": [
    {
     "data": {
      "text/plain": [
       "(array([ 1.,  1.,  0., 11., 29.,  0., 23., 38.,  0., 30., 24.,  0., 18.,\n",
       "        17.,  0.,  2.,  0.,  0.,  0.,  2.]),\n",
       " array([10.  , 10.65, 11.3 , 11.95, 12.6 , 13.25, 13.9 , 14.55, 15.2 ,\n",
       "        15.85, 16.5 , 17.15, 17.8 , 18.45, 19.1 , 19.75, 20.4 , 21.05,\n",
       "        21.7 , 22.35, 23.  ]),\n",
       " <BarContainer object of 20 artists>)"
      ]
     },
     "execution_count": 60,
     "metadata": {},
     "output_type": "execute_result"
    },
    {
     "data": {
      "image/png": "[encoded data removed]",
      "text/plain": [
       "<Figure size 640x480 with 1 Axes>"
      ]
     },
     "metadata": {},
     "output_type": "display_data"
    }
   ],
   "source": [
    "subtest = highest_scores[highest_scores[\"specific_subtest_id\"] == 43]\n",
    "pyplot.hist(subtest[\"raw_score\"], bins = 20)"
   ]
  },
  {
   "cell_type": "code",
   "execution_count": 61,
   "id": "35023cf1-6754-46a9-b571-49a2bd11c049",
   "metadata": {},
   "outputs": [
    {
     "data": {
      "text/plain": [
       "(array([4.1960e+03, 6.0330e+03, 8.7460e+03, 1.7335e+04, 2.8357e+04,\n",
       "        3.3078e+04, 8.4274e+04, 3.5912e+04, 3.0130e+04, 2.1878e+04,\n",
       "        1.3093e+04, 7.5220e+03, 3.7530e+03, 2.2780e+03, 2.6300e+02,\n",
       "        1.0500e+02, 3.1000e+01, 1.3000e+01, 3.0000e+00, 4.0000e+00]),\n",
       " array([ 1.  ,  2.15,  3.3 ,  4.45,  5.6 ,  6.75,  7.9 ,  9.05, 10.2 ,\n",
       "        11.35, 12.5 , 13.65, 14.8 , 15.95, 17.1 , 18.25, 19.4 , 20.55,\n",
       "        21.7 , 22.85, 24.  ]),\n",
       " <BarContainer object of 20 artists>)"
      ]
     },
     "execution_count": 61,
     "metadata": {},
     "output_type": "execute_result"
    },
    {
     "data": {
      "image/png": "[encoded data removed]",
      "text/plain": [
       "<Figure size 640x480 with 1 Axes>"
      ]
     },
     "metadata": {},
     "output_type": "display_data"
    }
   ],
   "source": [
    "subtest2 = df[df[\"specific_subtest_id\"] == 43]\n",
    "pyplot.hist(subtest2[\"raw_score\"], bins = 20)"
   ]
  }
 ],
 "metadata": {
  "kernelspec": {
   "display_name": "env",
   "language": "python",
   "name": "env"
  },
  "language_info": {
   "codemirror_mode": {
    "name": "ipython",
    "version": 3
   },
   "file_extension": ".py",
   "mimetype": "text/x-python",
   "name": "python",
   "nbconvert_exporter": "python",
   "pygments_lexer": "ipython3",
   "version": "3.9.7"
  }
 },
 "nbformat": 4,
 "nbformat_minor": 5
}
